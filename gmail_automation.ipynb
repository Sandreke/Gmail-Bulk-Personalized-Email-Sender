{
 "cells": [
  {
   "cell_type": "markdown",
   "metadata": {},
   "source": [
    "### Step 0: Import libraries"
   ]
  },
  {
   "cell_type": "code",
   "execution_count": null,
   "metadata": {},
   "outputs": [],
   "source": [
    "# !pip install smtplib"
   ]
  },
  {
   "cell_type": "code",
   "execution_count": null,
   "metadata": {},
   "outputs": [],
   "source": [
    "import pandas as pd\n",
    "import smtplib"
   ]
  },
  {
   "cell_type": "markdown",
   "metadata": {},
   "source": [
    "### Step 1: Previous tasks to be done\n",
    "1.1. Go to [2-step verification](https://myaccount.google.com/signinoptions/two-step-verification) page of your Gmail account to turn on this verification option. Note that you must be admin of your account\n",
    "<br>\n",
    "<img src=\"Resources/password_gmail1.jpg\" width=\"400px\">  \n",
    "1.2. Then, go to [App passwords](https://myaccount.google.com/apppasswords) page to generate a password. In “Select app” dropdown, select “Other (Custom name)”. You will have to type a name, it could be whatever you want (In my case \"Sandreke project\").\n",
    "<img src=\"Resources/password_gmail2.jpg\" width=\"400px\">    \n",
    "1.3. Finally, a 16-character password will be displayed, it is completely necessary to log in to Gmail.\n",
    "<img src=\"Resources/password_gmail3.jpg\" width=\"400px\">"
   ]
  },
  {
   "cell_type": "markdown",
   "metadata": {},
   "source": [
    "### Step 2: Set credentials & smtplib arguments"
   ]
  },
  {
   "cell_type": "code",
   "execution_count": null,
   "metadata": {},
   "outputs": [],
   "source": [
    "# Set credentials\n",
    "name_account = \"Sandreke\"\n",
    "email_account = \"sandreke99@gmail.com\"\n",
    "password_account = \"zmpwpbqxfdnoxpha\" # password created in step 1.3.\n",
    "\n",
    "# 'smtp.gmail.com' and 465 port refer to Gmail as provider\n",
    "# Change these arguments if you are using another one\n",
    "# For example, Outlook arguments are 'smtp-mail.outlook.com' and 587 port\n",
    "server = smtplib.SMTP_SSL('smtp.gmail.com', 465)\n",
    "server.ehlo()\n",
    "server.login(email_account, password_account)"
   ]
  },
  {
   "cell_type": "markdown",
   "metadata": {},
   "source": [
    "### Set 3: Read database (in this case an .xlsx file)"
   ]
  },
  {
   "cell_type": "code",
   "execution_count": null,
   "metadata": {},
   "outputs": [],
   "source": [
    "# Read the file that contains at least names & email addresses\n",
    "# Subjects & messages can be personalized, but we use them as input\n",
    "email_df = pd.read_excel(\"Data/Emails.xlsx\")\n",
    "\n",
    "# Get all names, email addresses, subjects & messages\n",
    "all_names = email_df['Name']\n",
    "all_emails = email_df['Email']\n",
    "all_subjects = email_df['Subject']\n",
    "all_messages = email_df['Message']"
   ]
  },
  {
   "cell_type": "markdown",
   "metadata": {},
   "source": [
    "### Step 4: Send bulk and personalized emails"
   ]
  },
  {
   "cell_type": "code",
   "execution_count": null,
   "metadata": {},
   "outputs": [],
   "source": [
    "for i in range(len(email_df)):\n",
    "\n",
    "    name = all_names[i]\n",
    "    email = all_emails[i]\n",
    "    \n",
    "    # Personalized subject\n",
    "    subject = all_subjects[i] + ', ' + all_names[i] + '!'\n",
    "    \n",
    "    # Personalized message\n",
    "    message = 'Hey, ' + all_names[i] + '!\\n\\n' +\n",
    "              all_messages[i] + '\\n\\n'\n",
    "              'Te deseamos lo mejor,\\n' +\n",
    "              name_account\n",
    "\n",
    "    # Generate email to be sent\n",
    "    sent_email = (\"From: {0} <{1}>\\n\"\n",
    "                  \"To: {2} <{3}>\\n\"\n",
    "                  \"Subject: {4}\\n\\n\"\n",
    "                  \"{5}\"\n",
    "                  .format(name_account, email_account, name, email, subject, message))\n",
    "    \n",
    "    # Send emails, the reason will be displayed in case you get an error\n",
    "    try:\n",
    "        server.sendmail(email_account, [email], sent_email) # [email] is a list that can contain multiple emails\n",
    "    except Exception:\n",
    "        print('Could not send email to {}. Error: {}\\n'.format(email, str(Exception)))\n",
    "\n",
    "# Close smtp server\n",
    "server.close()"
   ]
  }
 ],
 "metadata": {
  "kernelspec": {
   "display_name": "Python 3",
   "language": "python",
   "name": "python3"
  },
  "language_info": {
   "codemirror_mode": {
    "name": "ipython",
    "version": 3
   },
   "file_extension": ".py",
   "mimetype": "text/x-python",
   "name": "python",
   "nbconvert_exporter": "python",
   "pygments_lexer": "ipython3",
   "version": "3.7.4"
  }
 },
 "nbformat": 4,
 "nbformat_minor": 2
}
